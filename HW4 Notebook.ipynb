{
 "cells": [
  {
   "cell_type": "code",
   "execution_count": 0,
   "metadata": {
    "application/vnd.databricks.v1+cell": {
     "cellMetadata": {
      "byteLimit": 2048000,
      "rowLimit": 10000
     },
     "inputWidgets": {},
     "nuid": "da098231-7ce8-48a1-9f60-971c5ae8b7b0",
     "showTitle": false,
     "tableResultSettingsMap": {},
     "title": ""
    }
   },
   "outputs": [],
   "source": [
    "from pyspark.sql.types import DoubleType\n",
    "from pyspark.ml.feature import VectorAssembler\n",
    "from pyspark.ml.regression import LinearRegression\n",
    "from pyspark.sql.functions import col\n",
    "from pyspark.ml.regression import LinearRegression, RandomForestRegressor\n",
    "from pyspark.sql.types import DoubleType\n",
    "from pyspark.ml.evaluation import RegressionEvaluator\n",
    "import mlflow\n",
    "import mlflow.spark"
   ]
  },
  {
   "cell_type": "markdown",
   "metadata": {
    "application/vnd.databricks.v1+cell": {
     "cellMetadata": {},
     "inputWidgets": {},
     "nuid": "d3f4c042-1b45-441f-ad20-805fc1514fe7",
     "showTitle": false,
     "tableResultSettingsMap": {},
     "title": ""
    }
   },
   "source": [
    "## 1.Create two (2) new tables in your own fatabse where you'll store the predictions from each model for this exercise."
   ]
  },
  {
   "cell_type": "code",
   "execution_count": 0,
   "metadata": {
    "application/vnd.databricks.v1+cell": {
     "cellMetadata": {
      "byteLimit": 2048000,
      "rowLimit": 10000
     },
     "inputWidgets": {},
     "nuid": "faab291a-fbd7-4624-bb3b-01d10cb1e30e",
     "showTitle": false,
     "tableResultSettingsMap": {},
     "title": ""
    }
   },
   "outputs": [],
   "source": [
    "F1_DF = spark.read.option(\"header\", True).option(\"nullValue\", \"\\\\N\").csv('s3://columbia-gr5069-main/raw/results.csv')\n",
    "F1_DF = F1_DF.dropna(subset=[\"laps\", \"rank\"])"
   ]
  },
  {
   "cell_type": "code",
   "execution_count": 0,
   "metadata": {
    "application/vnd.databricks.v1+cell": {
     "cellMetadata": {
      "byteLimit": 2048000,
      "rowLimit": 10000
     },
     "inputWidgets": {},
     "nuid": "1b126aba-8eef-4cdf-91f0-c50e46289ad2",
     "showTitle": false,
     "tableResultSettingsMap": {},
     "title": ""
    }
   },
   "outputs": [],
   "source": [
    "F1_DF.write.mode('overwrite').parquet('s3://zl3373-gr5069/processed/F1_results')"
   ]
  },
  {
   "cell_type": "code",
   "execution_count": 0,
   "metadata": {
    "application/vnd.databricks.v1+cell": {
     "cellMetadata": {
      "byteLimit": 2048000,
      "rowLimit": 10000
     },
     "inputWidgets": {},
     "nuid": "dea6f8b8-daec-4a70-aee3-2056212a186c",
     "showTitle": false,
     "tableResultSettingsMap": {},
     "title": ""
    }
   },
   "outputs": [],
   "source": [
    "display(F1_DF)"
   ]
  },
  {
   "cell_type": "code",
   "execution_count": 0,
   "metadata": {
    "application/vnd.databricks.v1+cell": {
     "cellMetadata": {
      "byteLimit": 2048000,
      "rowLimit": 10000
     },
     "inputWidgets": {},
     "nuid": "3955ada9-777f-4431-a013-42061097ebe7",
     "showTitle": false,
     "tableResultSettingsMap": {},
     "title": ""
    }
   },
   "outputs": [],
   "source": [
    "# split my data into train and test\n",
    "(trainDF, testDF) = F1_DF.randomSplit([.8, .2], seed=42)\n",
    "print(trainDF.cache().count())"
   ]
  },
  {
   "cell_type": "code",
   "execution_count": 0,
   "metadata": {
    "application/vnd.databricks.v1+cell": {
     "cellMetadata": {
      "byteLimit": 2048000,
      "rowLimit": 10000
     },
     "inputWidgets": {},
     "nuid": "503d139d-d534-43c2-a2fd-96ba7b1e49bb",
     "showTitle": false,
     "tableResultSettingsMap": {},
     "title": ""
    }
   },
   "outputs": [],
   "source": [
    "# in case any string type data for my X variable laps and Y variable Rank\n",
    "trainDF = trainDF.withColumn(\"laps\", col(\"laps\").cast(DoubleType()))\n",
    "trainDF = trainDF.withColumn(\"rank\", col(\"rank\").cast(DoubleType()))\n",
    "testDF = testDF.withColumn(\"laps\", col(\"laps\").cast(DoubleType()))\n",
    "testDF = testDF.withColumn(\"rank\", col(\"rank\").cast(DoubleType()))"
   ]
  },
  {
   "cell_type": "code",
   "execution_count": 0,
   "metadata": {
    "application/vnd.databricks.v1+cell": {
     "cellMetadata": {
      "byteLimit": 2048000,
      "rowLimit": 10000
     },
     "inputWidgets": {},
     "nuid": "76615614-ed6b-4a82-bbaf-c17187589fa2",
     "showTitle": false,
     "tableResultSettingsMap": {},
     "title": ""
    }
   },
   "outputs": [],
   "source": [
    "(trainRepartitionDF, testRepartitionDF) = (F1_DF\n",
    "                                           .repartition(24)\n",
    "                                           .randomSplit([.8, .2], seed=42))\n",
    "\n",
    "print(trainRepartitionDF.count())"
   ]
  },
  {
   "cell_type": "code",
   "execution_count": 0,
   "metadata": {
    "application/vnd.databricks.v1+cell": {
     "cellMetadata": {
      "byteLimit": 2048000,
      "rowLimit": 10000
     },
     "inputWidgets": {},
     "nuid": "3f5d080f-d892-4f34-bfe0-58d229865d1d",
     "showTitle": false,
     "tableResultSettingsMap": {},
     "title": ""
    }
   },
   "outputs": [],
   "source": [
    "display(trainDF.select(\"rank\", \"laps\"))"
   ]
  },
  {
   "cell_type": "code",
   "execution_count": 0,
   "metadata": {
    "application/vnd.databricks.v1+cell": {
     "cellMetadata": {
      "byteLimit": 2048000,
      "rowLimit": 10000
     },
     "inputWidgets": {},
     "nuid": "d2b18a8e-b578-4774-95f8-a0ab5549665a",
     "showTitle": false,
     "tableResultSettingsMap": {},
     "title": ""
    }
   },
   "outputs": [],
   "source": [
    "display(trainDF.select(\"rank\", \"laps\").summary())"
   ]
  },
  {
   "cell_type": "code",
   "execution_count": 0,
   "metadata": {
    "application/vnd.databricks.v1+cell": {
     "cellMetadata": {
      "byteLimit": 2048000,
      "rowLimit": 10000
     },
     "inputWidgets": {},
     "nuid": "3fb131a9-8969-4b5e-a936-de0d8dfa2d85",
     "showTitle": false,
     "tableResultSettingsMap": {},
     "title": ""
    }
   },
   "outputs": [],
   "source": [
    "display(trainDF)"
   ]
  },
  {
   "cell_type": "code",
   "execution_count": 0,
   "metadata": {
    "application/vnd.databricks.v1+cell": {
     "cellMetadata": {
      "byteLimit": 2048000,
      "rowLimit": 10000
     },
     "inputWidgets": {},
     "nuid": "1f147aa1-96ef-4f09-b8e7-660fcd0f197c",
     "showTitle": false,
     "tableResultSettingsMap": {},
     "title": ""
    }
   },
   "outputs": [],
   "source": [
    "feature_cols = [\"laps\"]\n",
    "vecAssembler = VectorAssembler(inputCols=feature_cols, outputCol=\"features\")\n",
    "trainDF_vec = vecAssembler.transform(trainDF)\n",
    "testDF_vec = vecAssembler.transform(testDF)"
   ]
  },
  {
   "cell_type": "code",
   "execution_count": 0,
   "metadata": {
    "application/vnd.databricks.v1+cell": {
     "cellMetadata": {
      "byteLimit": 2048000,
      "rowLimit": 10000
     },
     "inputWidgets": {},
     "nuid": "57d3e01f-c4e6-4737-9c1f-56e640bd7c75",
     "showTitle": false,
     "tableResultSettingsMap": {},
     "title": ""
    }
   },
   "outputs": [],
   "source": [
    "mlflow.set_experiment(\"/Users/zl3373@columbia.edu/experimentsHW4\")"
   ]
  },
  {
   "cell_type": "code",
   "execution_count": 0,
   "metadata": {
    "application/vnd.databricks.v1+cell": {
     "cellMetadata": {
      "byteLimit": 2048000,
      "rowLimit": 10000
     },
     "inputWidgets": {},
     "nuid": "e9074cd5-7150-4ad6-b047-210497439760",
     "showTitle": false,
     "tableResultSettingsMap": {},
     "title": ""
    }
   },
   "outputs": [],
   "source": [
    "# Log into Linear Regression Model and apply the training model to test data\n",
    "with mlflow.start_run(run_name=\"Linear Regression Model for F1\") as run:\n",
    "    lr = LinearRegression(featuresCol=\"features\", labelCol=\"rank\", regParam=0.1, elasticNetParam=0.5)\n",
    "    model_lr = lr.fit(trainDF_vec)\n",
    "\n",
    "    # apply the training model on test data\n",
    "    preds_lr = model_lr.transform(testDF_vec)\n",
    "    \n",
    "    # 4 Metrics\n",
    "    evaluator = RegressionEvaluator(labelCol=\"rank\", predictionCol=\"prediction\")\n",
    "    rmse = evaluator.evaluate(preds_lr, {evaluator.metricName: \"rmse\"})\n",
    "    mae = evaluator.evaluate(preds_lr, {evaluator.metricName: \"mae\"})\n",
    "    r2 = evaluator.evaluate(preds_lr, {evaluator.metricName: \"r2\"})\n",
    "    mse = evaluator.evaluate(preds_lr, {evaluator.metricName: \"mse\"})\n",
    "    \n",
    "    # hyperparams\n",
    "    mlflow.log_param(\"model_type\", \"LinearRegression\")\n",
    "    mlflow.log_param(\"features\", feature_cols)\n",
    "    mlflow.log_param(\"regParam\", lr.getRegParam())\n",
    "    mlflow.log_param(\"elasticNetParam\", lr.getElasticNetParam())\n",
    "    \n",
    "    # Log metrics\n",
    "    mlflow.log_metric(\"rmse\", rmse)\n",
    "    mlflow.log_metric(\"mae\", mae)\n",
    "    mlflow.log_metric(\"r2\", r2)\n",
    "    mlflow.log_metric(\"mse\", mse)\n",
    "    \n",
    "    # Log model\n",
    "    mlflow.spark.log_model(model_lr, \"model\")\n"
   ]
  },
  {
   "cell_type": "code",
   "execution_count": 0,
   "metadata": {
    "application/vnd.databricks.v1+cell": {
     "cellMetadata": {
      "byteLimit": 2048000,
      "rowLimit": 10000
     },
     "inputWidgets": {},
     "nuid": "977e1345-ed84-4903-9d18-78d8ce160046",
     "showTitle": false,
     "tableResultSettingsMap": {},
     "title": ""
    }
   },
   "outputs": [],
   "source": [
    "display(preds_lr)"
   ]
  },
  {
   "cell_type": "code",
   "execution_count": 0,
   "metadata": {
    "application/vnd.databricks.v1+cell": {
     "cellMetadata": {
      "byteLimit": 2048000,
      "rowLimit": 10000
     },
     "inputWidgets": {},
     "nuid": "4477bdfb-7633-43b9-b8a0-9768911eb10c",
     "showTitle": false,
     "tableResultSettingsMap": {},
     "title": ""
    }
   },
   "outputs": [],
   "source": [
    "# store predictions of linear model into my database\n",
    "preds_lr.select(\"raceId\", \"resultId\", \"laps\",\"prediction\",\"rank\").write.format('jdbc').options(\n",
    "    url='jdbc:mysql://zl3373-gr5069.ccqalx6jsr2n.us-east-1.rds.amazonaws.com:3306/gr5069',\n",
    "    driver='com.mysql.cj.jdbc.Driver',\n",
    "    dbtable='linear_regression_predictions',\n",
    "    user='admin',\n",
    "    password='2015521Lzw'\n",
    ").mode('overwrite').save()"
   ]
  },
  {
   "cell_type": "code",
   "execution_count": 0,
   "metadata": {
    "application/vnd.databricks.v1+cell": {
     "cellMetadata": {
      "byteLimit": 2048000,
      "rowLimit": 10000
     },
     "inputWidgets": {},
     "nuid": "0901c9e3-6713-4a31-92a1-0282610da622",
     "showTitle": false,
     "tableResultSettingsMap": {},
     "title": ""
    }
   },
   "outputs": [],
   "source": [
    "# Test if I can successfully save the predicatios into my database\n",
    "df = spark.read.format('jdbc').options(\n",
    "    url='jdbc:mysql://zl3373-gr5069.ccqalx6jsr2n.us-east-1.rds.amazonaws.com:3306/gr5069',\n",
    "    driver='com.mysql.cj.jdbc.Driver',\n",
    "    dbtable='linear_regression_predictions',\n",
    "    user='admin',\n",
    "    password='2015521Lzw'\n",
    ").load()\n",
    "\n",
    "df.show()"
   ]
  },
  {
   "cell_type": "code",
   "execution_count": 0,
   "metadata": {
    "application/vnd.databricks.v1+cell": {
     "cellMetadata": {
      "byteLimit": 2048000,
      "rowLimit": 10000
     },
     "inputWidgets": {},
     "nuid": "e2453830-66c6-46d5-a78a-d6ff08a01329",
     "showTitle": false,
     "tableResultSettingsMap": {},
     "title": ""
    }
   },
   "outputs": [],
   "source": [
    "# log into second model: Random Forest \n",
    "with mlflow.start_run(run_name=\"Random Forest Model for F1\") as run:\n",
    "    rf = RandomForestRegressor(featuresCol=\"features\", labelCol=\"rank\", numTrees=35, maxDepth=5)\n",
    "    model_rf = rf.fit(trainDF_vec)\n",
    "    # apply the training model above on the test data\n",
    "    preds_rf = model_rf.transform(testDF_vec) \n",
    "    # still 4 metrics\n",
    "    rmse_rf = evaluator.evaluate(preds_rf, {evaluator.metricName: \"rmse\"})\n",
    "    mae_rf = evaluator.evaluate(preds_rf, {evaluator.metricName: \"mae\"})\n",
    "    r2_rf = evaluator.evaluate(preds_rf, {evaluator.metricName: \"r2\"})\n",
    "    mse_rf = evaluator.evaluate(preds_rf, {evaluator.metricName: \"mse\"})\n",
    "    #hyperparams\n",
    "    mlflow.log_param(\"model_type\", \"RandomForestRegressor\")\n",
    "    mlflow.log_param(\"features\", feature_cols)\n",
    "    mlflow.log_param(\"numTrees\", rf.getNumTrees())\n",
    "    mlflow.log_param(\"maxDepth\", rf.getMaxDepth())\n",
    "    #log metrics\n",
    "    mlflow.log_metric(\"rmse\", rmse_rf)\n",
    "    mlflow.log_metric(\"mae\", mae_rf)\n",
    "    mlflow.log_metric(\"r2\", r2_rf)\n",
    "    mlflow.log_metric(\"mse\", mse_rf)\n",
    "    #log model\n",
    "    mlflow.spark.log_model(model_rf, \"model\")"
   ]
  },
  {
   "cell_type": "code",
   "execution_count": 0,
   "metadata": {
    "application/vnd.databricks.v1+cell": {
     "cellMetadata": {
      "byteLimit": 2048000,
      "rowLimit": 10000
     },
     "inputWidgets": {},
     "nuid": "ffa4c194-e636-45c6-b5e2-56b851b9c187",
     "showTitle": false,
     "tableResultSettingsMap": {},
     "title": ""
    }
   },
   "outputs": [],
   "source": [
    "# store predictions of random forest model into my database\n",
    "preds_rf.select(\"raceId\", \"resultId\", \"prediction\", \"rank\", \"laps\") \\\n",
    "    .write.format('jdbc').options(\n",
    "        url='jdbc:mysql://zl3373-gr5069.ccqalx6jsr2n.us-east-1.rds.amazonaws.com:3306/gr5069',\n",
    "        driver='com.mysql.cj.jdbc.Driver',\n",
    "        dbtable='random_forest_model_predictions',        \n",
    "        user='admin',\n",
    "        password='2015521Lzw'\n",
    "    ).mode('overwrite').save()"
   ]
  }
 ],
 "metadata": {
  "application/vnd.databricks.v1+notebook": {
   "computePreferences": null,
   "dashboards": [],
   "environmentMetadata": {
    "base_environment": "",
    "environment_version": "2"
   },
   "inputWidgetPreferences": null,
   "language": "python",
   "notebookMetadata": {
    "pythonIndentUnit": 4
   },
   "notebookName": "HW4 Notebook",
   "widgets": {}
  },
  "language_info": {
   "name": "python"
  }
 },
 "nbformat": 4,
 "nbformat_minor": 0
}
